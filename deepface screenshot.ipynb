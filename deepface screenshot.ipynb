{
 "cells": [
  {
   "cell_type": "code",
   "execution_count": null,
   "id": "20344563",
   "metadata": {},
   "outputs": [],
   "source": [
    "import numpy\n",
    "import numpy as np\n",
    "import cv2\n",
    "from deepface import DeepFace\n",
    "from mss import mss\n",
    "from PIL import Image\n",
    "#face_cascade = cv2.CascadeClassifier('haarcascade_frontalface_default.xml')\n",
    "face_cascade = cv2.CascadeClassifier(cv2.data.haarcascades+ 'haarcascade_frontalface_default.xml')\n",
    "bounding_box = {'top': 0, 'left': 0, 'width': 350, 'height': 550}\n",
    "sct = mss()\n",
    "while True:\n",
    "    screenshot = sct.grab(bounding_box)\n",
    "    img = Image.frombytes(\"RGB\",screenshot.size,screenshot.bgra,\"raw\",\"BGRX\")\n",
    "    img = numpy.array(img)\n",
    "    result = DeepFace.analyze(img, enforce_detection=False, actions=['emotion'])\n",
    "    gray = cv2.cvtColor(img, cv2.COLOR_BGR2GRAY)\n",
    "    faces = face_cascade.detectMultiScale(gray, 1.1, 4)\n",
    "        # Draw the rectangle around each face\n",
    "    for (x, y, w, h) in faces:\n",
    "        cv2.rectangle(img, (x, y), (x + w, y + h), (255, 0, 0), 2)\n",
    "\n",
    "        font = cv2.FONT_HERSHEY_SIMPLEX\n",
    "        cv2.putText(img,\n",
    "                        result['dominant_emotion'],\n",
    "                        (50, 50),\n",
    "                        font, 3,\n",
    "                        (255, 0, 0),\n",
    "                        2, cv2.LINE_4);\n",
    "    cv2.imshow('screen', np.array(img))\n",
    "\n",
    "    if (cv2.waitKey(1) & 0xFF) == ord('q'):\n",
    "        \n",
    "        break\n",
    "cv2.destroyAllWindows()"
   ]
  },
  {
   "cell_type": "code",
   "execution_count": 5,
   "id": "91cbc0ab",
   "metadata": {},
   "outputs": [
    {
     "data": {
      "text/plain": [
       "array([[[232, 234, 237],\n",
       "        [232, 234, 237],\n",
       "        [232, 234, 237],\n",
       "        ...,\n",
       "        [232, 234, 237],\n",
       "        [232, 234, 237],\n",
       "        [232, 234, 237]],\n",
       "\n",
       "       [[232, 234, 237],\n",
       "        [232, 234, 237],\n",
       "        [232, 234, 237],\n",
       "        ...,\n",
       "        [232, 234, 237],\n",
       "        [232, 234, 237],\n",
       "        [232, 235, 237]],\n",
       "\n",
       "       [[232, 234, 237],\n",
       "        [232, 234, 237],\n",
       "        [232, 234, 237],\n",
       "        ...,\n",
       "        [232, 234, 237],\n",
       "        [232, 233, 236],\n",
       "        [232, 234, 237]],\n",
       "\n",
       "       ...,\n",
       "\n",
       "       [[238, 238, 238],\n",
       "        [238, 238, 238],\n",
       "        [238, 238, 238],\n",
       "        ...,\n",
       "        [247, 247, 247],\n",
       "        [247, 247, 247],\n",
       "        [247, 247, 247]],\n",
       "\n",
       "       [[238, 238, 238],\n",
       "        [238, 238, 238],\n",
       "        [238, 238, 238],\n",
       "        ...,\n",
       "        [247, 247, 247],\n",
       "        [247, 247, 247],\n",
       "        [247, 247, 247]],\n",
       "\n",
       "       [[238, 238, 238],\n",
       "        [238, 238, 238],\n",
       "        [238, 238, 238],\n",
       "        ...,\n",
       "        [247, 247, 247],\n",
       "        [247, 247, 247],\n",
       "        [247, 247, 247]]], dtype=uint8)"
      ]
     },
     "execution_count": 5,
     "metadata": {},
     "output_type": "execute_result"
    }
   ],
   "source": [
    "img"
   ]
  },
  {
   "cell_type": "code",
   "execution_count": null,
   "id": "1c526b5d",
   "metadata": {},
   "outputs": [],
   "source": []
  }
 ],
 "metadata": {
  "kernelspec": {
   "display_name": "Python 3 (ipykernel)",
   "language": "python",
   "name": "python3"
  },
  "language_info": {
   "codemirror_mode": {
    "name": "ipython",
    "version": 3
   },
   "file_extension": ".py",
   "mimetype": "text/x-python",
   "name": "python",
   "nbconvert_exporter": "python",
   "pygments_lexer": "ipython3",
   "version": "3.9.7"
  }
 },
 "nbformat": 4,
 "nbformat_minor": 5
}
